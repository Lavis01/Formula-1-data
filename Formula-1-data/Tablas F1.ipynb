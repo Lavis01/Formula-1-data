{
 "cells": [
  {
   "cell_type": "markdown",
   "id": "9efe79ba",
   "metadata": {},
   "source": [
    "# Modelo de Datos Formula 1\n",
    "### Martín Adolfo Morales Estrada"
   ]
  },
  {
   "cell_type": "code",
   "execution_count": 1,
   "id": "9a8575ea",
   "metadata": {},
   "outputs": [],
   "source": [
    "import requests\n",
    "import json\n",
    "import pandas as pd\n",
    "import warnings\n",
    "import numpy as np\n",
    "warnings.filterwarnings(\"ignore\")"
   ]
  },
  {
   "cell_type": "markdown",
   "id": "2d2b792b",
   "metadata": {},
   "source": [
    "## Tabla races"
   ]
  },
  {
   "cell_type": "code",
   "execution_count": null,
   "id": "7b9bf91f",
   "metadata": {},
   "outputs": [],
   "source": [
    "races={\"season\":[],\"round\":[],\"raceName\":[],\"circuitId\":[],\"lat\":[],\"long\":[],\"country\":[],\"date\":[],\"url\":[]}"
   ]
  },
  {
   "cell_type": "code",
   "execution_count": null,
   "id": "51384d36",
   "metadata": {},
   "outputs": [],
   "source": [
    "for year in list(range(2010,2023)):\n",
    "    url='http://ergast.com/api/f1/{}.json'\n",
    "    response=requests.get(url.format(year))\n",
    "    content=json.loads(response.content)\n",
    "    \n",
    "    for item in content['MRData']['RaceTable']['Races']:\n",
    "        races['season'].append(int(item['season']))\n",
    "        races['round'].append(int(item['round']))\n",
    "        races['raceName'].append(item['raceName'])\n",
    "        races['circuitId'].append(item['Circuit']['circuitId'])\n",
    "        races['lat'].append(item['Circuit']['Location']['lat'])\n",
    "        races['long'].append(item['Circuit']['Location']['long'])\n",
    "        races['country'].append(item['Circuit']['Location']['country'])\n",
    "        races['date'].append(item['date'])\n",
    "        races['url'].append(item['url'])"
   ]
  },
  {
   "cell_type": "code",
   "execution_count": null,
   "id": "a86f16ec",
   "metadata": {},
   "outputs": [],
   "source": [
    "pd.DataFrame(races)"
   ]
  },
  {
   "cell_type": "code",
   "execution_count": null,
   "id": "5ef92eb8",
   "metadata": {},
   "outputs": [],
   "source": [
    "pd.DataFrame(races).to_csv('races.csv', index=False)"
   ]
  },
  {
   "cell_type": "markdown",
   "id": "7b2c2774",
   "metadata": {},
   "source": [
    "## Tabla seasons"
   ]
  },
  {
   "cell_type": "code",
   "execution_count": null,
   "id": "b60ce27e",
   "metadata": {},
   "outputs": [],
   "source": [
    "seasons={'season':[],'url':[]}"
   ]
  },
  {
   "cell_type": "code",
   "execution_count": null,
   "id": "7596bae2",
   "metadata": {},
   "outputs": [],
   "source": [
    "for year in list(range(2010,2023)):\n",
    "    url='http://ergast.com/api/f1/{}/seasons.json'\n",
    "    response=requests.get(url.format(year))\n",
    "    content=json.loads(response.content)\n",
    "    \n",
    "    for item in content['MRData']['SeasonTable']['Seasons']:\n",
    "        seasons['season'].append(int(item['season']))\n",
    "        seasons['url'].append(item['url'])"
   ]
  },
  {
   "cell_type": "code",
   "execution_count": null,
   "id": "3ee9d6aa",
   "metadata": {},
   "outputs": [],
   "source": [
    "pd.DataFrame(seasons)"
   ]
  },
  {
   "cell_type": "code",
   "execution_count": null,
   "id": "77f98f2d",
   "metadata": {},
   "outputs": [],
   "source": [
    "pd.DataFrame(seasons).to_csv('seasons.csv', index=False)"
   ]
  },
  {
   "cell_type": "markdown",
   "id": "ddcc0fa4",
   "metadata": {},
   "source": [
    "## Tabla drivers"
   ]
  },
  {
   "cell_type": "code",
   "execution_count": null,
   "id": "1a62b3bd",
   "metadata": {},
   "outputs": [],
   "source": [
    "drivers={'driverId':[],'permanentNumber':[],'code':[],'url':[],'givenName':[],'familyName':[],'dateOfBirth':[],'nationality':[]}"
   ]
  },
  {
   "cell_type": "code",
   "execution_count": null,
   "id": "0cf8ca1d",
   "metadata": {},
   "outputs": [],
   "source": [
    "for year in list(range(2010,2023)):\n",
    "    url = 'http://ergast.com/api/f1/{}/drivers.json'\n",
    "    response = requests.get(url.format(year))\n",
    "    content = json.loads(response.content)\n",
    "    \n",
    "    for item in content['MRData']['DriverTable']['Drivers']:\n",
    "        if item['driverId'] not in  drivers['driverId']:\n",
    "            drivers['driverId'].append(item['driverId'])\n",
    "            try:\n",
    "                drivers['permanentNumber'].append(int(item['permanentNumber']))\n",
    "            except:\n",
    "                drivers['permanentNumber'].append(None)           \n",
    "            drivers['code'].append(item['code'])\n",
    "            drivers['url'].append(item['url'])\n",
    "            drivers['givenName'].append(item['givenName'])\n",
    "            drivers['familyName'].append(item['familyName'])\n",
    "            drivers['dateOfBirth'].append(item['dateOfBirth'])\n",
    "            drivers['nationality'].append(item['nationality'])\n",
    "        else:\n",
    "            next"
   ]
  },
  {
   "cell_type": "code",
   "execution_count": null,
   "id": "33b2eeeb",
   "metadata": {},
   "outputs": [],
   "source": [
    "pd.DataFrame(drivers)"
   ]
  },
  {
   "cell_type": "code",
   "execution_count": null,
   "id": "2cd8f9d8",
   "metadata": {},
   "outputs": [],
   "source": [
    "pd.DataFrame(drivers).to_csv('drivers.csv', index=False)"
   ]
  },
  {
   "cell_type": "markdown",
   "id": "a881bbbf",
   "metadata": {},
   "source": [
    "## Tabla constructors"
   ]
  },
  {
   "cell_type": "code",
   "execution_count": null,
   "id": "e31aaed3",
   "metadata": {},
   "outputs": [],
   "source": [
    "constructors={'constructorId':[],'name':[],'nationality':[],'url':[]}"
   ]
  },
  {
   "cell_type": "code",
   "execution_count": null,
   "id": "50d4ee74",
   "metadata": {},
   "outputs": [],
   "source": [
    "for year in list(range(2010,2023)):\n",
    "    url = 'http://ergast.com/api/f1/{}/constructors.json'\n",
    "    response = requests.get(url.format(year))\n",
    "    content = json.loads(response.content)\n",
    "    \n",
    "    for item in content['MRData']['ConstructorTable']['Constructors']:\n",
    "        if item['constructorId'] not in constructors['constructorId']:\n",
    "            constructors['constructorId'].append(item['constructorId'])   \n",
    "            constructors['name'].append(item['name'])\n",
    "            constructors['nationality'].append(item['nationality'])\n",
    "            constructors['url'].append(item['url'])\n",
    "        else:\n",
    "            next"
   ]
  },
  {
   "cell_type": "code",
   "execution_count": null,
   "id": "3efb27ee",
   "metadata": {},
   "outputs": [],
   "source": [
    "pd.DataFrame(constructors)"
   ]
  },
  {
   "cell_type": "code",
   "execution_count": null,
   "id": "2c1c755f",
   "metadata": {},
   "outputs": [],
   "source": [
    "pd.DataFrame(constructors).to_csv('constructors.csv', index=False)"
   ]
  },
  {
   "cell_type": "markdown",
   "id": "d5398ec5",
   "metadata": {},
   "source": [
    "## Tabla circuits"
   ]
  },
  {
   "cell_type": "code",
   "execution_count": null,
   "id": "ee434b66",
   "metadata": {},
   "outputs": [],
   "source": [
    "circuits={'circuitId':[],'circuitName':[],'locality':[],'country':[],'lat':[],'long':[],'url':[]}"
   ]
  },
  {
   "cell_type": "code",
   "execution_count": null,
   "id": "4f6af241",
   "metadata": {},
   "outputs": [],
   "source": [
    "for year in list(range(2010,2023)):\n",
    "    url = 'http://ergast.com/api/f1/{}/circuits.json'\n",
    "    response = requests.get(url.format(year))\n",
    "    content = json.loads(response.content)\n",
    "\n",
    "    for item in content['MRData']['CircuitTable']['Circuits']:\n",
    "        if item['circuitId'] not in circuits['circuitId']:\n",
    "            circuits['circuitId'].append(item['circuitId'])\n",
    "            circuits['url'].append(item['url'])\n",
    "            circuits['circuitName'].append(item['circuitName'])\n",
    "            circuits['lat'].append(item['Location']['lat'])\n",
    "            circuits['long'].append(item['Location']['long'])\n",
    "            circuits['locality'].append(item['Location']['locality'])\n",
    "            circuits['country'].append(item['Location']['country'])\n",
    "        else:\n",
    "            next"
   ]
  },
  {
   "cell_type": "code",
   "execution_count": null,
   "id": "cef37cdc",
   "metadata": {},
   "outputs": [],
   "source": [
    "pd.DataFrame(circuits)"
   ]
  },
  {
   "cell_type": "code",
   "execution_count": null,
   "id": "9838d20f",
   "metadata": {},
   "outputs": [],
   "source": [
    "pd.DataFrame(circuits).to_csv('circuits.csv', index=False)"
   ]
  },
  {
   "cell_type": "markdown",
   "id": "f228b6b6",
   "metadata": {},
   "source": [
    "## Tabla qualifying"
   ]
  },
  {
   "cell_type": "code",
   "execution_count": null,
   "id": "1829d5cb",
   "metadata": {},
   "outputs": [],
   "source": [
    "qualifying={'season':[],'raceId':[],'driverId':[],'constructorId':[],'number':[],'position':[],'Q1':[],'Q2':[],'Q3':[]}"
   ]
  },
  {
   "cell_type": "code",
   "execution_count": null,
   "id": "07a87370",
   "metadata": {},
   "outputs": [],
   "source": [
    "for year in list(range(2010,2023)):\n",
    "    url='http://ergast.com/api/f1/{}.json'\n",
    "    response=requests.get(url.format(year))\n",
    "    content=json.loads(response.content)\n",
    "    nround=int(len(content['MRData']['RaceTable']['Races']))\n",
    "    \n",
    "    for race in list(range(nround)):\n",
    "        url = 'http://ergast.com/api/f1/{}/{}/qualifying.json'\n",
    "        response = requests.get(url.format(year,race))\n",
    "        content = json.loads(response.content)\n",
    "\n",
    "        for item in content['MRData']['RaceTable']['Races'][0][\"QualifyingResults\"]:\n",
    "            qualifying['season'].append(int(year))\n",
    "            qualifying['raceId'].append(content['MRData']['RaceTable']['Races'][0]['raceName'])\n",
    "            qualifying['driverId'].append(item['Driver']['driverId'])\n",
    "            qualifying['constructorId'].append(item['Constructor']['constructorId'])\n",
    "            qualifying['number'].append(item['number'])\n",
    "            qualifying['position'].append(item['position'])    \n",
    "            try:\n",
    "                qualifying['Q1'].append((item['Q1']))\n",
    "            except:\n",
    "                qualifying['Q1'].append(None)\n",
    "            try:\n",
    "                qualifying['Q2'].append((item['Q2']))\n",
    "            except:\n",
    "                qualifying['Q2'].append(None)\n",
    "            try:\n",
    "                qualifying['Q3'].append((item['Q3']))\n",
    "            except:\n",
    "                qualifying['Q3'].append(None)"
   ]
  },
  {
   "cell_type": "code",
   "execution_count": null,
   "id": "de036cb2",
   "metadata": {},
   "outputs": [],
   "source": [
    "pd.DataFrame(qualifying)"
   ]
  },
  {
   "cell_type": "code",
   "execution_count": null,
   "id": "c6122c5a",
   "metadata": {},
   "outputs": [],
   "source": [
    "pd.DataFrame(qualifying).to_csv('qualifying.csv', index=False)"
   ]
  },
  {
   "cell_type": "markdown",
   "id": "a5efc1be",
   "metadata": {},
   "source": [
    "## Tabla sprintResults"
   ]
  },
  {
   "cell_type": "code",
   "execution_count": null,
   "id": "b5de59c8",
   "metadata": {},
   "outputs": [],
   "source": [
    "sprintResults={'raceId':[],'driverId':[],'constructorId':[],'number':[],'grid':[],'position':[],'points':[],\n",
    "               'laps':[],'time':[],'milliseconds':[],'fastestLap':[],'fastestLapTime':[],'statusId':[]}"
   ]
  },
  {
   "cell_type": "code",
   "execution_count": null,
   "id": "20b85f9d",
   "metadata": {},
   "outputs": [],
   "source": [
    "for year in list(range(2021,2023)):\n",
    "    url = 'http://ergast.com/api/f1/{}/sprint.json'\n",
    "    response = requests.get(url.format(year))\n",
    "    content = json.loads(response.content)\n",
    "\n",
    "    for item in content['MRData']['RaceTable']['Races'][0]['SprintResults']:\n",
    "        sprintResults['raceId'].append(content['MRData']['RaceTable']['Races'][0]['raceName'])\n",
    "        sprintResults['driverId'].append(item['Driver']['driverId'])\n",
    "        sprintResults['constructorId'].append(item['Constructor']['constructorId'])\n",
    "        sprintResults['number'].append(item['number'])\n",
    "        sprintResults['grid'].append(item['grid'])\n",
    "        sprintResults['position'].append(item['position'])\n",
    "        sprintResults['points'].append(item['points'])\n",
    "        sprintResults['laps'].append(item['laps'])\n",
    "        try:\n",
    "            sprintResults['time'].append(item['Time']['time'])\n",
    "        except:\n",
    "            sprintResults['time'].append(np.nan)\n",
    "        try:\n",
    "            sprintResults['milliseconds'].append(item['Time']['millis'])\n",
    "        except:\n",
    "            sprintResults['milliseconds'].append(np.nan)\n",
    "        try:\n",
    "            sprintResults['fastestLap'].append(item['FastestLap']['lap'])\n",
    "        except:\n",
    "            sprintResults['fastestLap'].append(np.nan)\n",
    "        try:\n",
    "            sprintResults['fastestLapTime'].append(item['FastestLap']['Time']['time'])\n",
    "        except:\n",
    "            sprintResults['fastestLapTime'].append(np.nan)\n",
    "        sprintResults['statusId'].append(item['status'])"
   ]
  },
  {
   "cell_type": "code",
   "execution_count": null,
   "id": "3b32af10",
   "metadata": {},
   "outputs": [],
   "source": [
    "pd.DataFrame(sprintResults)"
   ]
  },
  {
   "cell_type": "code",
   "execution_count": null,
   "id": "6edb1205",
   "metadata": {},
   "outputs": [],
   "source": [
    "pd.DataFrame(sprintResults).to_csv('sprintResults.csv', index=False)"
   ]
  },
  {
   "cell_type": "markdown",
   "id": "a547aef3",
   "metadata": {},
   "source": [
    "## Tabla status"
   ]
  },
  {
   "cell_type": "code",
   "execution_count": null,
   "id": "cdfa30c6",
   "metadata": {},
   "outputs": [],
   "source": [
    "status={'statusId':[],'status':[]}"
   ]
  },
  {
   "cell_type": "code",
   "execution_count": null,
   "id": "7360aff8",
   "metadata": {},
   "outputs": [],
   "source": [
    "for year in list(range(2010,2023)):\n",
    "    url='http://ergast.com/api/f1/{}/status.json'\n",
    "    response = requests.get(url.format(year))\n",
    "    content=json.loads(response.content)\n",
    "    \n",
    "    for item in content['MRData']['StatusTable']['Status']:\n",
    "        if item['statusId'] not in status['statusId']:\n",
    "            status['statusId'].append(item['statusId'])\n",
    "            status['status'].append(item['status'])\n",
    "        else:\n",
    "            next"
   ]
  },
  {
   "cell_type": "code",
   "execution_count": null,
   "id": "ed72e53f",
   "metadata": {},
   "outputs": [],
   "source": [
    "pd.DataFrame(status)"
   ]
  },
  {
   "cell_type": "code",
   "execution_count": null,
   "id": "6e4f29a2",
   "metadata": {},
   "outputs": [],
   "source": [
    "pd.DataFrame(status).to_csv('status.csv', index=False)"
   ]
  },
  {
   "cell_type": "markdown",
   "id": "e067464f",
   "metadata": {},
   "source": [
    "## Tabla results"
   ]
  },
  {
   "cell_type": "code",
   "execution_count": null,
   "id": "c48bb4eb",
   "metadata": {},
   "outputs": [],
   "source": [
    "results={'raceId':[],'driverId':[],'constructorId':[],'number':[],'grid':[],'position':[],'points':[],'laps':[],'time':[],\n",
    "         'milliseconds':[],'fastestLap':[],'rank':[],'fastestLapTime':[],'fastestLapSpeed':[],'statusId':[]}"
   ]
  },
  {
   "cell_type": "code",
   "execution_count": null,
   "id": "4680be54",
   "metadata": {},
   "outputs": [],
   "source": [
    "for year in list(range(2010,2023)):\n",
    "    url='http://ergast.com/api/f1/{}/results.json'\n",
    "    response = requests.get(url.format(year))\n",
    "    content=json.loads(response.content)\n",
    "    for item in  content['MRData']['RaceTable']['Races'][0]['Results']:\n",
    "        results['raceId'].append(content['MRData']['RaceTable']['Races'][0]['raceName'])\n",
    "        results['driverId'].append(item['Driver']['driverId'])\n",
    "        results['constructorId'].append(item['Constructor']['constructorId'])\n",
    "        results['number'].append(item['number'])\n",
    "        results['grid'].append(item['grid'])\n",
    "        results['position'].append(item['position'])\n",
    "        results['points'].append(item['points'])\n",
    "        results['laps'].append(item['laps'])\n",
    "        try:\n",
    "            results['time'].append(item['Time']['time'])\n",
    "        except:\n",
    "            results['time'].append(np.nan)\n",
    "        try:\n",
    "            results['milliseconds'].append(item['Time']['millis'])\n",
    "        except:\n",
    "            results['milliseconds'].append(np.nan)\n",
    "        try:\n",
    "            results['fastestLap'].append(item['FastestLap']['lap'])\n",
    "        except:\n",
    "            results['fastestLap'].append(np.nan)\n",
    "        try:\n",
    "            results['rank'].append(item['FastestLap']['rank'])\n",
    "        except:\n",
    "            results['rank'].append(np.nan)\n",
    "        try:\n",
    "            results['fastestLapTime'].append(item['FastestLap']['Time']['time'])\n",
    "        except:\n",
    "            results['fastestLapTime'].append(np.nan)\n",
    "        try:\n",
    "            results['fastestLapSpeed'].append(item['FastestLap']['AverageSpeed']['speed'])\n",
    "        except:\n",
    "            results['fastestLapSpeed'].append(np.nan)\n",
    "        results['statusId'].append(item['status'])"
   ]
  },
  {
   "cell_type": "code",
   "execution_count": null,
   "id": "01891879",
   "metadata": {},
   "outputs": [],
   "source": [
    "pd.DataFrame(results)"
   ]
  },
  {
   "cell_type": "code",
   "execution_count": null,
   "id": "cede8b11",
   "metadata": {},
   "outputs": [],
   "source": [
    "pd.DataFrame(results).to_csv('results.csv', index=False)"
   ]
  },
  {
   "cell_type": "markdown",
   "id": "d006419c",
   "metadata": {},
   "source": [
    "## Tabla pitStops"
   ]
  },
  {
   "cell_type": "code",
   "execution_count": null,
   "id": "29a088ae",
   "metadata": {},
   "outputs": [],
   "source": [
    "pitStops={'driverId':[],'stop':[],'lap':[],'time':[],'duration':[]}"
   ]
  },
  {
   "cell_type": "code",
   "execution_count": null,
   "id": "52bd8e7b",
   "metadata": {},
   "outputs": [],
   "source": [
    "for year in list(range(2011,2023)):\n",
    "    url='http://ergast.com/api/f1/{}/1/pitstops.json'\n",
    "    response = requests.get(url.format(year))\n",
    "    content=json.loads(response.content)\n",
    "    for item in content['MRData']['RaceTable']['Races'][0]['PitStops']:\n",
    "        pitStops['driverId'].append(item['driverId'])\n",
    "        pitStops['lap'].append(item['lap'])\n",
    "        pitStops['stop'].append(item['stop'])\n",
    "        pitStops['time'].append(item['time'])\n",
    "        pitStops['duration'].append(item['duration'])"
   ]
  },
  {
   "cell_type": "code",
   "execution_count": null,
   "id": "d03715e2",
   "metadata": {},
   "outputs": [],
   "source": [
    "pd.DataFrame(pitStops)"
   ]
  },
  {
   "cell_type": "code",
   "execution_count": null,
   "id": "8c0c0568",
   "metadata": {},
   "outputs": [],
   "source": [
    "pd.DataFrame(pitStops).to_csv('pitStops.csv', index=False)"
   ]
  },
  {
   "cell_type": "markdown",
   "id": "4dcfadc1",
   "metadata": {},
   "source": [
    "## Tabla lapTimes"
   ]
  },
  {
   "cell_type": "code",
   "execution_count": 2,
   "id": "03830c82",
   "metadata": {},
   "outputs": [],
   "source": [
    "lapTimes={'driverid':[],'lap':[],'position':[],'time':[]}"
   ]
  },
  {
   "cell_type": "code",
   "execution_count": 3,
   "id": "342081c8",
   "metadata": {},
   "outputs": [],
   "source": [
    "for year in list(range(2010,2023)):\n",
    "    url='http://ergast.com/api/f1/{}/1/laps.json'\n",
    "    response = requests.get(url.format(year))\n",
    "    content=json.loads(response.content)\n",
    "    for item in content['MRData']['RaceTable']['Races'][0]['Laps'][0]['Timings']:\n",
    "        lapTimes['driverid'].append(item['driverId'])\n",
    "        lapTimes['lap'].append(content['MRData']['RaceTable']['Races'][0]['Laps'][0]['number'])\n",
    "        lapTimes['position'].append(item['position'])\n",
    "        lapTimes['time'].append(item['time'])"
   ]
  },
  {
   "cell_type": "code",
   "execution_count": 4,
   "id": "e6133c71",
   "metadata": {},
   "outputs": [
    {
     "data": {
      "text/html": [
       "<div>\n",
       "<style scoped>\n",
       "    .dataframe tbody tr th:only-of-type {\n",
       "        vertical-align: middle;\n",
       "    }\n",
       "\n",
       "    .dataframe tbody tr th {\n",
       "        vertical-align: top;\n",
       "    }\n",
       "\n",
       "    .dataframe thead th {\n",
       "        text-align: right;\n",
       "    }\n",
       "</style>\n",
       "<table border=\"1\" class=\"dataframe\">\n",
       "  <thead>\n",
       "    <tr style=\"text-align: right;\">\n",
       "      <th></th>\n",
       "      <th>driverid</th>\n",
       "      <th>lap</th>\n",
       "      <th>position</th>\n",
       "      <th>time</th>\n",
       "    </tr>\n",
       "  </thead>\n",
       "  <tbody>\n",
       "    <tr>\n",
       "      <th>0</th>\n",
       "      <td>vettel</td>\n",
       "      <td>1</td>\n",
       "      <td>1</td>\n",
       "      <td>2:03.366</td>\n",
       "    </tr>\n",
       "    <tr>\n",
       "      <th>1</th>\n",
       "      <td>alonso</td>\n",
       "      <td>1</td>\n",
       "      <td>2</td>\n",
       "      <td>2:05.394</td>\n",
       "    </tr>\n",
       "    <tr>\n",
       "      <th>2</th>\n",
       "      <td>massa</td>\n",
       "      <td>1</td>\n",
       "      <td>3</td>\n",
       "      <td>2:06.758</td>\n",
       "    </tr>\n",
       "    <tr>\n",
       "      <th>3</th>\n",
       "      <td>rosberg</td>\n",
       "      <td>1</td>\n",
       "      <td>4</td>\n",
       "      <td>2:08.063</td>\n",
       "    </tr>\n",
       "    <tr>\n",
       "      <th>4</th>\n",
       "      <td>hamilton</td>\n",
       "      <td>1</td>\n",
       "      <td>5</td>\n",
       "      <td>2:08.558</td>\n",
       "    </tr>\n",
       "    <tr>\n",
       "      <th>...</th>\n",
       "      <td>...</td>\n",
       "      <td>...</td>\n",
       "      <td>...</td>\n",
       "      <td>...</td>\n",
       "    </tr>\n",
       "    <tr>\n",
       "      <th>256</th>\n",
       "      <td>norris</td>\n",
       "      <td>1</td>\n",
       "      <td>16</td>\n",
       "      <td>1:50.088</td>\n",
       "    </tr>\n",
       "    <tr>\n",
       "      <th>257</th>\n",
       "      <td>stroll</td>\n",
       "      <td>1</td>\n",
       "      <td>17</td>\n",
       "      <td>1:50.439</td>\n",
       "    </tr>\n",
       "    <tr>\n",
       "      <th>258</th>\n",
       "      <td>latifi</td>\n",
       "      <td>1</td>\n",
       "      <td>18</td>\n",
       "      <td>1:51.134</td>\n",
       "    </tr>\n",
       "    <tr>\n",
       "      <th>259</th>\n",
       "      <td>zhou</td>\n",
       "      <td>1</td>\n",
       "      <td>19</td>\n",
       "      <td>1:51.374</td>\n",
       "    </tr>\n",
       "    <tr>\n",
       "      <th>260</th>\n",
       "      <td>ricciardo</td>\n",
       "      <td>1</td>\n",
       "      <td>20</td>\n",
       "      <td>1:51.601</td>\n",
       "    </tr>\n",
       "  </tbody>\n",
       "</table>\n",
       "<p>261 rows × 4 columns</p>\n",
       "</div>"
      ],
      "text/plain": [
       "      driverid lap position      time\n",
       "0       vettel   1        1  2:03.366\n",
       "1       alonso   1        2  2:05.394\n",
       "2        massa   1        3  2:06.758\n",
       "3      rosberg   1        4  2:08.063\n",
       "4     hamilton   1        5  2:08.558\n",
       "..         ...  ..      ...       ...\n",
       "256     norris   1       16  1:50.088\n",
       "257     stroll   1       17  1:50.439\n",
       "258     latifi   1       18  1:51.134\n",
       "259       zhou   1       19  1:51.374\n",
       "260  ricciardo   1       20  1:51.601\n",
       "\n",
       "[261 rows x 4 columns]"
      ]
     },
     "execution_count": 4,
     "metadata": {},
     "output_type": "execute_result"
    }
   ],
   "source": [
    "pd.DataFrame(lapTimes)"
   ]
  },
  {
   "cell_type": "code",
   "execution_count": 5,
   "id": "868d62cc",
   "metadata": {},
   "outputs": [],
   "source": [
    "pd.DataFrame(lapTimes).to_csv('lapTimes.csv', index=False)"
   ]
  },
  {
   "cell_type": "markdown",
   "id": "657a68c4",
   "metadata": {},
   "source": [
    "## Tabla driverStandings"
   ]
  },
  {
   "cell_type": "code",
   "execution_count": 6,
   "id": "9eb03924",
   "metadata": {},
   "outputs": [],
   "source": [
    "driverStandings={'season':[],'driverId':[],'points':[],'position':[],'wins':[]}"
   ]
  },
  {
   "cell_type": "code",
   "execution_count": 8,
   "id": "77ac728c",
   "metadata": {},
   "outputs": [],
   "source": [
    "for year in list(range(2010,2023)):\n",
    "    url='http://ergast.com/api/f1/{}/driverStandings.json'\n",
    "    response = requests.get(url.format(year))\n",
    "    content=json.loads(response.content)\n",
    "    for item in content['MRData']['StandingsTable']['StandingsLists'][0]['DriverStandings']:\n",
    "        driverStandings['season'].append(int(year))\n",
    "        driverStandings['driverId'].append(item['Driver']['driverId'])\n",
    "        driverStandings['points'].append(item['points'])\n",
    "        driverStandings['position'].append(item['position'])\n",
    "        driverStandings['wins'].append(item['wins'])"
   ]
  },
  {
   "cell_type": "code",
   "execution_count": 9,
   "id": "730c2f5b",
   "metadata": {},
   "outputs": [
    {
     "data": {
      "text/html": [
       "<div>\n",
       "<style scoped>\n",
       "    .dataframe tbody tr th:only-of-type {\n",
       "        vertical-align: middle;\n",
       "    }\n",
       "\n",
       "    .dataframe tbody tr th {\n",
       "        vertical-align: top;\n",
       "    }\n",
       "\n",
       "    .dataframe thead th {\n",
       "        text-align: right;\n",
       "    }\n",
       "</style>\n",
       "<table border=\"1\" class=\"dataframe\">\n",
       "  <thead>\n",
       "    <tr style=\"text-align: right;\">\n",
       "      <th></th>\n",
       "      <th>season</th>\n",
       "      <th>driverId</th>\n",
       "      <th>points</th>\n",
       "      <th>position</th>\n",
       "      <th>wins</th>\n",
       "    </tr>\n",
       "  </thead>\n",
       "  <tbody>\n",
       "    <tr>\n",
       "      <th>0</th>\n",
       "      <td>2010</td>\n",
       "      <td>vettel</td>\n",
       "      <td>256</td>\n",
       "      <td>1</td>\n",
       "      <td>5</td>\n",
       "    </tr>\n",
       "    <tr>\n",
       "      <th>1</th>\n",
       "      <td>2010</td>\n",
       "      <td>alonso</td>\n",
       "      <td>252</td>\n",
       "      <td>2</td>\n",
       "      <td>5</td>\n",
       "    </tr>\n",
       "    <tr>\n",
       "      <th>2</th>\n",
       "      <td>2010</td>\n",
       "      <td>webber</td>\n",
       "      <td>242</td>\n",
       "      <td>3</td>\n",
       "      <td>4</td>\n",
       "    </tr>\n",
       "    <tr>\n",
       "      <th>3</th>\n",
       "      <td>2010</td>\n",
       "      <td>hamilton</td>\n",
       "      <td>240</td>\n",
       "      <td>4</td>\n",
       "      <td>3</td>\n",
       "    </tr>\n",
       "    <tr>\n",
       "      <th>4</th>\n",
       "      <td>2010</td>\n",
       "      <td>button</td>\n",
       "      <td>214</td>\n",
       "      <td>5</td>\n",
       "      <td>2</td>\n",
       "    </tr>\n",
       "    <tr>\n",
       "      <th>...</th>\n",
       "      <td>...</td>\n",
       "      <td>...</td>\n",
       "      <td>...</td>\n",
       "      <td>...</td>\n",
       "      <td>...</td>\n",
       "    </tr>\n",
       "    <tr>\n",
       "      <th>299</th>\n",
       "      <td>2022</td>\n",
       "      <td>zhou</td>\n",
       "      <td>6</td>\n",
       "      <td>18</td>\n",
       "      <td>0</td>\n",
       "    </tr>\n",
       "    <tr>\n",
       "      <th>300</th>\n",
       "      <td>2022</td>\n",
       "      <td>albon</td>\n",
       "      <td>4</td>\n",
       "      <td>19</td>\n",
       "      <td>0</td>\n",
       "    </tr>\n",
       "    <tr>\n",
       "      <th>301</th>\n",
       "      <td>2022</td>\n",
       "      <td>latifi</td>\n",
       "      <td>2</td>\n",
       "      <td>20</td>\n",
       "      <td>0</td>\n",
       "    </tr>\n",
       "    <tr>\n",
       "      <th>302</th>\n",
       "      <td>2022</td>\n",
       "      <td>de_vries</td>\n",
       "      <td>2</td>\n",
       "      <td>21</td>\n",
       "      <td>0</td>\n",
       "    </tr>\n",
       "    <tr>\n",
       "      <th>303</th>\n",
       "      <td>2022</td>\n",
       "      <td>hulkenberg</td>\n",
       "      <td>0</td>\n",
       "      <td>22</td>\n",
       "      <td>0</td>\n",
       "    </tr>\n",
       "  </tbody>\n",
       "</table>\n",
       "<p>304 rows × 5 columns</p>\n",
       "</div>"
      ],
      "text/plain": [
       "     season    driverId points position wins\n",
       "0      2010      vettel    256        1    5\n",
       "1      2010      alonso    252        2    5\n",
       "2      2010      webber    242        3    4\n",
       "3      2010    hamilton    240        4    3\n",
       "4      2010      button    214        5    2\n",
       "..      ...         ...    ...      ...  ...\n",
       "299    2022        zhou      6       18    0\n",
       "300    2022       albon      4       19    0\n",
       "301    2022      latifi      2       20    0\n",
       "302    2022    de_vries      2       21    0\n",
       "303    2022  hulkenberg      0       22    0\n",
       "\n",
       "[304 rows x 5 columns]"
      ]
     },
     "execution_count": 9,
     "metadata": {},
     "output_type": "execute_result"
    }
   ],
   "source": [
    "pd.DataFrame(driverStandings)"
   ]
  },
  {
   "cell_type": "code",
   "execution_count": 10,
   "id": "67501e0e",
   "metadata": {},
   "outputs": [],
   "source": [
    "pd.DataFrame(driverStandings).to_csv('driverStandings.csv',index=False)"
   ]
  },
  {
   "cell_type": "markdown",
   "id": "7bbbdcc2",
   "metadata": {},
   "source": [
    "## Tabla constructorStandings"
   ]
  },
  {
   "cell_type": "code",
   "execution_count": 11,
   "id": "bf67ba4a",
   "metadata": {},
   "outputs": [],
   "source": [
    "constructorStandings={'season':[],'constructorId':[],'points':[],'position':[],'wins':[]}"
   ]
  },
  {
   "cell_type": "code",
   "execution_count": 12,
   "id": "8f0c69bb",
   "metadata": {},
   "outputs": [],
   "source": [
    "for year in list(range(2010,2023)):\n",
    "    url='http://ergast.com/api/f1/{}/constructorStandings.json'\n",
    "    response = requests.get(url.format(year))\n",
    "    content=json.loads(response.content)\n",
    "    for item in content['MRData']['StandingsTable']['StandingsLists'][0]['ConstructorStandings']:\n",
    "        constructorStandings['season'].append(int(year))\n",
    "        constructorStandings['constructorId'].append(item['Constructor']['constructorId'])\n",
    "        constructorStandings['points'].append(item['points'])\n",
    "        constructorStandings['position'].append(item['position'])\n",
    "        constructorStandings['wins'].append(item['wins'])"
   ]
  },
  {
   "cell_type": "code",
   "execution_count": 13,
   "id": "86f87e31",
   "metadata": {},
   "outputs": [
    {
     "data": {
      "text/html": [
       "<div>\n",
       "<style scoped>\n",
       "    .dataframe tbody tr th:only-of-type {\n",
       "        vertical-align: middle;\n",
       "    }\n",
       "\n",
       "    .dataframe tbody tr th {\n",
       "        vertical-align: top;\n",
       "    }\n",
       "\n",
       "    .dataframe thead th {\n",
       "        text-align: right;\n",
       "    }\n",
       "</style>\n",
       "<table border=\"1\" class=\"dataframe\">\n",
       "  <thead>\n",
       "    <tr style=\"text-align: right;\">\n",
       "      <th></th>\n",
       "      <th>season</th>\n",
       "      <th>constructorId</th>\n",
       "      <th>points</th>\n",
       "      <th>position</th>\n",
       "      <th>wins</th>\n",
       "    </tr>\n",
       "  </thead>\n",
       "  <tbody>\n",
       "    <tr>\n",
       "      <th>0</th>\n",
       "      <td>2010</td>\n",
       "      <td>red_bull</td>\n",
       "      <td>498</td>\n",
       "      <td>1</td>\n",
       "      <td>9</td>\n",
       "    </tr>\n",
       "    <tr>\n",
       "      <th>1</th>\n",
       "      <td>2010</td>\n",
       "      <td>mclaren</td>\n",
       "      <td>454</td>\n",
       "      <td>2</td>\n",
       "      <td>5</td>\n",
       "    </tr>\n",
       "    <tr>\n",
       "      <th>2</th>\n",
       "      <td>2010</td>\n",
       "      <td>ferrari</td>\n",
       "      <td>396</td>\n",
       "      <td>3</td>\n",
       "      <td>5</td>\n",
       "    </tr>\n",
       "    <tr>\n",
       "      <th>3</th>\n",
       "      <td>2010</td>\n",
       "      <td>mercedes</td>\n",
       "      <td>214</td>\n",
       "      <td>4</td>\n",
       "      <td>0</td>\n",
       "    </tr>\n",
       "    <tr>\n",
       "      <th>4</th>\n",
       "      <td>2010</td>\n",
       "      <td>renault</td>\n",
       "      <td>163</td>\n",
       "      <td>5</td>\n",
       "      <td>0</td>\n",
       "    </tr>\n",
       "    <tr>\n",
       "      <th>...</th>\n",
       "      <td>...</td>\n",
       "      <td>...</td>\n",
       "      <td>...</td>\n",
       "      <td>...</td>\n",
       "      <td>...</td>\n",
       "    </tr>\n",
       "    <tr>\n",
       "      <th>134</th>\n",
       "      <td>2022</td>\n",
       "      <td>alfa</td>\n",
       "      <td>55</td>\n",
       "      <td>6</td>\n",
       "      <td>0</td>\n",
       "    </tr>\n",
       "    <tr>\n",
       "      <th>135</th>\n",
       "      <td>2022</td>\n",
       "      <td>aston_martin</td>\n",
       "      <td>55</td>\n",
       "      <td>7</td>\n",
       "      <td>0</td>\n",
       "    </tr>\n",
       "    <tr>\n",
       "      <th>136</th>\n",
       "      <td>2022</td>\n",
       "      <td>haas</td>\n",
       "      <td>37</td>\n",
       "      <td>8</td>\n",
       "      <td>0</td>\n",
       "    </tr>\n",
       "    <tr>\n",
       "      <th>137</th>\n",
       "      <td>2022</td>\n",
       "      <td>alphatauri</td>\n",
       "      <td>35</td>\n",
       "      <td>9</td>\n",
       "      <td>0</td>\n",
       "    </tr>\n",
       "    <tr>\n",
       "      <th>138</th>\n",
       "      <td>2022</td>\n",
       "      <td>williams</td>\n",
       "      <td>8</td>\n",
       "      <td>10</td>\n",
       "      <td>0</td>\n",
       "    </tr>\n",
       "  </tbody>\n",
       "</table>\n",
       "<p>139 rows × 5 columns</p>\n",
       "</div>"
      ],
      "text/plain": [
       "     season constructorId points position wins\n",
       "0      2010      red_bull    498        1    9\n",
       "1      2010       mclaren    454        2    5\n",
       "2      2010       ferrari    396        3    5\n",
       "3      2010      mercedes    214        4    0\n",
       "4      2010       renault    163        5    0\n",
       "..      ...           ...    ...      ...  ...\n",
       "134    2022          alfa     55        6    0\n",
       "135    2022  aston_martin     55        7    0\n",
       "136    2022          haas     37        8    0\n",
       "137    2022    alphatauri     35        9    0\n",
       "138    2022      williams      8       10    0\n",
       "\n",
       "[139 rows x 5 columns]"
      ]
     },
     "execution_count": 13,
     "metadata": {},
     "output_type": "execute_result"
    }
   ],
   "source": [
    "pd.DataFrame(constructorStandings)"
   ]
  },
  {
   "cell_type": "code",
   "execution_count": 14,
   "id": "79488925",
   "metadata": {},
   "outputs": [],
   "source": [
    "pd.DataFrame(constructorStandings).to_csv('constructorStandings.csv',index=False)"
   ]
  },
  {
   "cell_type": "markdown",
   "id": "60b12252",
   "metadata": {},
   "source": [
    "## Tabla constructorResults"
   ]
  },
  {
   "cell_type": "code",
   "execution_count": 15,
   "id": "606dec8b",
   "metadata": {},
   "outputs": [],
   "source": [
    "constructorResults = {'raceId':[],'constructorId': [], 'points': [], 'status': []}"
   ]
  },
  {
   "cell_type": "code",
   "execution_count": 16,
   "id": "34e2a984",
   "metadata": {},
   "outputs": [],
   "source": [
    "for year in list(range(2010, 2023)):\n",
    "    url = \"http://ergast.com/api/f1/{}/results.json?limit=1000\"\n",
    "    response = requests.get(url.format(year))\n",
    "    content = json.loads(response.content)\n",
    "    for item in content['MRData']['RaceTable']['Races'][10]['Results']:\n",
    "        constructorResults['raceId'].append(content['MRData']['RaceTable']['Races'][0]['raceName'])\n",
    "        constructorResults['constructorId'].append(item['Constructor']['constructorId'])\n",
    "        constructorResults['points'].append(item['points'])\n",
    "        constructorResults['status'].append(item['status'])"
   ]
  },
  {
   "cell_type": "code",
   "execution_count": 17,
   "id": "7a14fba5",
   "metadata": {},
   "outputs": [
    {
     "data": {
      "text/html": [
       "<div>\n",
       "<style scoped>\n",
       "    .dataframe tbody tr th:only-of-type {\n",
       "        vertical-align: middle;\n",
       "    }\n",
       "\n",
       "    .dataframe tbody tr th {\n",
       "        vertical-align: top;\n",
       "    }\n",
       "\n",
       "    .dataframe thead th {\n",
       "        text-align: right;\n",
       "    }\n",
       "</style>\n",
       "<table border=\"1\" class=\"dataframe\">\n",
       "  <thead>\n",
       "    <tr style=\"text-align: right;\">\n",
       "      <th></th>\n",
       "      <th>raceId</th>\n",
       "      <th>constructorId</th>\n",
       "      <th>points</th>\n",
       "      <th>status</th>\n",
       "    </tr>\n",
       "  </thead>\n",
       "  <tbody>\n",
       "    <tr>\n",
       "      <th>0</th>\n",
       "      <td>Bahrain Grand Prix</td>\n",
       "      <td>ferrari</td>\n",
       "      <td>25</td>\n",
       "      <td>Finished</td>\n",
       "    </tr>\n",
       "    <tr>\n",
       "      <th>1</th>\n",
       "      <td>Bahrain Grand Prix</td>\n",
       "      <td>ferrari</td>\n",
       "      <td>18</td>\n",
       "      <td>Finished</td>\n",
       "    </tr>\n",
       "    <tr>\n",
       "      <th>2</th>\n",
       "      <td>Bahrain Grand Prix</td>\n",
       "      <td>red_bull</td>\n",
       "      <td>15</td>\n",
       "      <td>Finished</td>\n",
       "    </tr>\n",
       "    <tr>\n",
       "      <th>3</th>\n",
       "      <td>Bahrain Grand Prix</td>\n",
       "      <td>mclaren</td>\n",
       "      <td>12</td>\n",
       "      <td>Finished</td>\n",
       "    </tr>\n",
       "    <tr>\n",
       "      <th>4</th>\n",
       "      <td>Bahrain Grand Prix</td>\n",
       "      <td>mclaren</td>\n",
       "      <td>10</td>\n",
       "      <td>Finished</td>\n",
       "    </tr>\n",
       "    <tr>\n",
       "      <th>...</th>\n",
       "      <td>...</td>\n",
       "      <td>...</td>\n",
       "      <td>...</td>\n",
       "      <td>...</td>\n",
       "    </tr>\n",
       "    <tr>\n",
       "      <th>273</th>\n",
       "      <td>Bahrain Grand Prix</td>\n",
       "      <td>alphatauri</td>\n",
       "      <td>0</td>\n",
       "      <td>+1 Lap</td>\n",
       "    </tr>\n",
       "    <tr>\n",
       "      <th>274</th>\n",
       "      <td>Bahrain Grand Prix</td>\n",
       "      <td>aston_martin</td>\n",
       "      <td>0</td>\n",
       "      <td>+1 Lap</td>\n",
       "    </tr>\n",
       "    <tr>\n",
       "      <th>275</th>\n",
       "      <td>Bahrain Grand Prix</td>\n",
       "      <td>ferrari</td>\n",
       "      <td>0</td>\n",
       "      <td>Power Unit</td>\n",
       "    </tr>\n",
       "    <tr>\n",
       "      <th>276</th>\n",
       "      <td>Bahrain Grand Prix</td>\n",
       "      <td>williams</td>\n",
       "      <td>0</td>\n",
       "      <td>Undertray</td>\n",
       "    </tr>\n",
       "    <tr>\n",
       "      <th>277</th>\n",
       "      <td>Bahrain Grand Prix</td>\n",
       "      <td>red_bull</td>\n",
       "      <td>0</td>\n",
       "      <td>Collision damage</td>\n",
       "    </tr>\n",
       "  </tbody>\n",
       "</table>\n",
       "<p>278 rows × 4 columns</p>\n",
       "</div>"
      ],
      "text/plain": [
       "                 raceId constructorId points            status\n",
       "0    Bahrain Grand Prix       ferrari     25          Finished\n",
       "1    Bahrain Grand Prix       ferrari     18          Finished\n",
       "2    Bahrain Grand Prix      red_bull     15          Finished\n",
       "3    Bahrain Grand Prix       mclaren     12          Finished\n",
       "4    Bahrain Grand Prix       mclaren     10          Finished\n",
       "..                  ...           ...    ...               ...\n",
       "273  Bahrain Grand Prix    alphatauri      0            +1 Lap\n",
       "274  Bahrain Grand Prix  aston_martin      0            +1 Lap\n",
       "275  Bahrain Grand Prix       ferrari      0        Power Unit\n",
       "276  Bahrain Grand Prix      williams      0         Undertray\n",
       "277  Bahrain Grand Prix      red_bull      0  Collision damage\n",
       "\n",
       "[278 rows x 4 columns]"
      ]
     },
     "execution_count": 17,
     "metadata": {},
     "output_type": "execute_result"
    }
   ],
   "source": [
    "pd.DataFrame(constructorResults)"
   ]
  },
  {
   "cell_type": "code",
   "execution_count": 18,
   "id": "9fe94c0f",
   "metadata": {},
   "outputs": [],
   "source": [
    "pd.DataFrame(constructorResults).to_csv('constructorResults.csv',index=False)"
   ]
  }
 ],
 "metadata": {
  "kernelspec": {
   "display_name": "Python 3 (ipykernel)",
   "language": "python",
   "name": "python3"
  },
  "language_info": {
   "codemirror_mode": {
    "name": "ipython",
    "version": 3
   },
   "file_extension": ".py",
   "mimetype": "text/x-python",
   "name": "python",
   "nbconvert_exporter": "python",
   "pygments_lexer": "ipython3",
   "version": "3.9.13"
  }
 },
 "nbformat": 4,
 "nbformat_minor": 5
}
